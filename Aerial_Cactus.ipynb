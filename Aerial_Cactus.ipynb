{
  "nbformat": 4,
  "nbformat_minor": 0,
  "metadata": {
    "colab": {
      "name": "Aerial Cactus",
      "version": "0.3.2",
      "provenance": [],
      "collapsed_sections": [
        "i13FzvER_XlE"
      ]
    },
    "kernelspec": {
      "name": "python3",
      "display_name": "Python 3"
    },
    "accelerator": "GPU"
  },
  "cells": [
    {
      "cell_type": "code",
      "metadata": {
        "id": "68LlLQ73kwKS",
        "colab_type": "code",
        "outputId": "6b8c89bd-73c4-4481-de02-b05b7285e9cf",
        "colab": {
          "base_uri": "https://localhost:8080/",
          "height": 128
        }
      },
      "source": [
        "from google.colab import drive\n",
        "drive.mount('/content/drive',force_remount=True)"
      ],
      "execution_count": 1,
      "outputs": [
        {
          "output_type": "stream",
          "text": [
            "Go to this URL in a browser: https://accounts.google.com/o/oauth2/auth?client_id=947318989803-6bn6qk8qdgf4n4g3pfee6491hc0brc4i.apps.googleusercontent.com&redirect_uri=urn%3Aietf%3Awg%3Aoauth%3A2.0%3Aoob&scope=email%20https%3A%2F%2Fwww.googleapis.com%2Fauth%2Fdocs.test%20https%3A%2F%2Fwww.googleapis.com%2Fauth%2Fdrive%20https%3A%2F%2Fwww.googleapis.com%2Fauth%2Fdrive.photos.readonly%20https%3A%2F%2Fwww.googleapis.com%2Fauth%2Fpeopleapi.readonly&response_type=code\n",
            "\n",
            "Enter your authorization code:\n",
            "··········\n",
            "Mounted at /content/drive\n"
          ],
          "name": "stdout"
        }
      ]
    },
    {
      "cell_type": "code",
      "metadata": {
        "id": "echiF5qUlLvx",
        "colab_type": "code",
        "outputId": "1c613222-8899-4545-b41e-c9f9c540ae1b",
        "colab": {
          "base_uri": "https://localhost:8080/",
          "height": 108
        }
      },
      "source": [
        "!unzip 'drive/My Drive/pucho/aerial cactus'"
      ],
      "execution_count": 2,
      "outputs": [
        {
          "output_type": "stream",
          "text": [
            "Archive:  drive/My Drive/pucho/aerial cactus.zip\n",
            "  inflating: train.zip               \n",
            "  inflating: train.csv               \n",
            "  inflating: test.zip                \n",
            "  inflating: sample_submission.csv   \n"
          ],
          "name": "stdout"
        }
      ]
    },
    {
      "cell_type": "code",
      "metadata": {
        "id": "oF8MC9tplhCG",
        "colab_type": "code",
        "colab": {}
      },
      "source": [
        "!unzip 'train'"
      ],
      "execution_count": 0,
      "outputs": []
    },
    {
      "cell_type": "code",
      "metadata": {
        "id": "fXLRItjaF51_",
        "colab_type": "code",
        "colab": {}
      },
      "source": [
        "!unzip 'test'"
      ],
      "execution_count": 0,
      "outputs": []
    },
    {
      "cell_type": "code",
      "metadata": {
        "id": "GIUfDDwhpt9i",
        "colab_type": "code",
        "colab": {}
      },
      "source": [
        "import glob\n",
        "from PIL import Image\n",
        "import matplotlib.pyplot as plt\n",
        "%matplotlib inline\n",
        "import cv2\n",
        "from google.colab.patches import cv2_imshow\n",
        "import pandas as pd\n",
        "import numpy as np\n",
        "import imutils"
      ],
      "execution_count": 0,
      "outputs": []
    },
    {
      "cell_type": "markdown",
      "metadata": {
        "id": "t-Kp1-VkjvxW",
        "colab_type": "text"
      },
      "source": [
        "Lets see a few images in the datatset."
      ]
    },
    {
      "cell_type": "code",
      "metadata": {
        "id": "TE-0D3hYqitU",
        "colab_type": "code",
        "outputId": "96cabf65-bf60-4814-9b69-989bec750db5",
        "colab": {
          "base_uri": "https://localhost:8080/",
          "height": 517
        }
      },
      "source": [
        "train_im=glob.glob('train/*.jpg')\n",
        "\n",
        "count=0\n",
        "for i in train_im:\n",
        "  im=cv2.imread(i)\n",
        "  im=cv2.resize(im,(100,100))\n",
        "  cv2_imshow(im)\n",
        "  \n",
        "  count+=1\n",
        "  if count==5:\n",
        "    break"
      ],
      "execution_count": 6,
      "outputs": [
        {
          "output_type": "display_data",
          "data": {
            "image/png": "[encoded data removed]",
            "text/plain": [
              "<PIL.Image.Image image mode=RGB size=100x100 at 0x7FBD21F17048>"
            ]
          },
          "metadata": {
            "tags": []
          }
        },
        {
          "output_type": "display_data",
          "data": {
            "image/png": "[encoded data removed]",
            "text/plain": [
              "<PIL.Image.Image image mode=RGB size=100x100 at 0x7FBD21EB4860>"
            ]
          },
          "metadata": {
            "tags": []
          }
        },
        {
          "output_type": "display_data",
          "data": {
            "image/png": "[encoded data removed]",
            "text/plain": [
              "<PIL.Image.Image image mode=RGB size=100x100 at 0x7FBD21EB4860>"
            ]
          },
          "metadata": {
            "tags": []
          }
        },
        {
          "output_type": "display_data",
          "data": {
            "image/png": "[encoded data removed]",
            "text/plain": [
              "<PIL.Image.Image image mode=RGB size=100x100 at 0x7FBD21EB48D0>"
            ]
          },
          "metadata": {
            "tags": []
          }
        },
        {
          "output_type": "display_data",
          "data": {
            "image/png": "[encoded data removed]",
            "text/plain": [
              "<PIL.Image.Image image mode=RGB size=100x100 at 0x7FBD21EB48D0>"
            ]
          },
          "metadata": {
            "tags": []
          }
        }
      ]
    },
    {
      "cell_type": "code",
      "metadata": {
        "id": "0THfFUUPl9HV",
        "colab_type": "code",
        "outputId": "1c6860f0-2b6a-4935-b698-68a1fdb9ee11",
        "colab": {
          "base_uri": "https://localhost:8080/",
          "height": 206
        }
      },
      "source": [
        "#Dataframe with image information\n",
        "df=pd.read_csv('train.csv')\n",
        "df.head()"
      ],
      "execution_count": 7,
      "outputs": [
        {
          "output_type": "execute_result",
          "data": {
            "text/html": [
              "<div>\n",
              "<style scoped>\n",
              "    .dataframe tbody tr th:only-of-type {\n",
              "        vertical-align: middle;\n",
              "    }\n",
              "\n",
              "    .dataframe tbody tr th {\n",
              "        vertical-align: top;\n",
              "    }\n",
              "\n",
              "    .dataframe thead th {\n",
              "        text-align: right;\n",
              "    }\n",
              "</style>\n",
              "<table border=\"1\" class=\"dataframe\">\n",
              "  <thead>\n",
              "    <tr style=\"text-align: right;\">\n",
              "      <th></th>\n",
              "      <th>id</th>\n",
              "      <th>has_cactus</th>\n",
              "    </tr>\n",
              "  </thead>\n",
              "  <tbody>\n",
              "    <tr>\n",
              "      <th>0</th>\n",
              "      <td>0004be2cfeaba1c0361d39e2b000257b.jpg</td>\n",
              "      <td>1</td>\n",
              "    </tr>\n",
              "    <tr>\n",
              "      <th>1</th>\n",
              "      <td>000c8a36845c0208e833c79c1bffedd1.jpg</td>\n",
              "      <td>1</td>\n",
              "    </tr>\n",
              "    <tr>\n",
              "      <th>2</th>\n",
              "      <td>000d1e9a533f62e55c289303b072733d.jpg</td>\n",
              "      <td>1</td>\n",
              "    </tr>\n",
              "    <tr>\n",
              "      <th>3</th>\n",
              "      <td>0011485b40695e9138e92d0b3fb55128.jpg</td>\n",
              "      <td>1</td>\n",
              "    </tr>\n",
              "    <tr>\n",
              "      <th>4</th>\n",
              "      <td>0014d7a11e90b62848904c1418fc8cf2.jpg</td>\n",
              "      <td>1</td>\n",
              "    </tr>\n",
              "  </tbody>\n",
              "</table>\n",
              "</div>"
            ],
            "text/plain": [
              "                                     id  has_cactus\n",
              "0  0004be2cfeaba1c0361d39e2b000257b.jpg           1\n",
              "1  000c8a36845c0208e833c79c1bffedd1.jpg           1\n",
              "2  000d1e9a533f62e55c289303b072733d.jpg           1\n",
              "3  0011485b40695e9138e92d0b3fb55128.jpg           1\n",
              "4  0014d7a11e90b62848904c1418fc8cf2.jpg           1"
            ]
          },
          "metadata": {
            "tags": []
          },
          "execution_count": 7
        }
      ]
    },
    {
      "cell_type": "code",
      "metadata": {
        "id": "7_SCdy8wOBXW",
        "colab_type": "code",
        "outputId": "19003df7-5f34-4064-93e4-bac25c1fbc84",
        "colab": {
          "base_uri": "https://localhost:8080/",
          "height": 144
        }
      },
      "source": [
        "df.info()"
      ],
      "execution_count": 8,
      "outputs": [
        {
          "output_type": "stream",
          "text": [
            "<class 'pandas.core.frame.DataFrame'>\n",
            "RangeIndex: 17500 entries, 0 to 17499\n",
            "Data columns (total 2 columns):\n",
            "id            17500 non-null object\n",
            "has_cactus    17500 non-null int64\n",
            "dtypes: int64(1), object(1)\n",
            "memory usage: 273.5+ KB\n"
          ],
          "name": "stdout"
        }
      ]
    },
    {
      "cell_type": "code",
      "metadata": {
        "id": "4Jf9nCgTOR2z",
        "colab_type": "code",
        "outputId": "597d1cb0-fe21-47fa-e43e-4e85a779009c",
        "colab": {
          "base_uri": "https://localhost:8080/",
          "height": 35
        }
      },
      "source": [
        "cactus=[]\n",
        "cactus.append(sum(df['has_cactus']==0))\n",
        "cactus.append(sum(df['has_cactus']==1))\n",
        "cactus"
      ],
      "execution_count": 9,
      "outputs": [
        {
          "output_type": "execute_result",
          "data": {
            "text/plain": [
              "[4364, 13136]"
            ]
          },
          "metadata": {
            "tags": []
          },
          "execution_count": 9
        }
      ]
    },
    {
      "cell_type": "markdown",
      "metadata": {
        "id": "yOze23UskX50",
        "colab_type": "text"
      },
      "source": [
        "Lets visualise this unbalanced datatset."
      ]
    },
    {
      "cell_type": "code",
      "metadata": {
        "id": "fmj-mo3pOlaz",
        "colab_type": "code",
        "outputId": "e32f8018-b23f-4cee-b68a-33990f90348e",
        "colab": {
          "base_uri": "https://localhost:8080/",
          "height": 269
        }
      },
      "source": [
        "#an unbalanced dataset\n",
        "import matplotlib.pyplot as plt\n",
        "b1,b2=plt.bar(['no cactus','cactus'],[cactus[0],cactus[1]])\n",
        "plt.text(1,13136,'13136')\n",
        "plt.text(0,4364,'4364')\n",
        "plt.axis(right=False);"
      ],
      "execution_count": 10,
      "outputs": [
        {
          "output_type": "display_data",
          "data": {
            "image/png": "[encoded data removed]",
            "text/plain": [
              "<Figure size 432x288 with 1 Axes>"
            ]
          },
          "metadata": {
            "tags": []
          }
        }
      ]
    },
    {
      "cell_type": "markdown",
      "metadata": {
        "id": "NHDGX2HRehNj",
        "colab_type": "text"
      },
      "source": [
        "Augmenting the dataset"
      ]
    },
    {
      "cell_type": "code",
      "metadata": {
        "id": "t6EoDqpw9Jlb",
        "colab_type": "code",
        "colab": {}
      },
      "source": [
        "#save array values of image in list\n",
        "x=[]\n",
        "y_ans=[]\n",
        "\n",
        "#open images with glob\n",
        "train_im=glob.glob('train/*.jpg')\n",
        "\n",
        "\n",
        "for name in train_im:\n",
        "\n",
        "  im=cv2.imread(name)\n",
        "  \n",
        "  #blur\n",
        "  \n",
        "  #im=cv2.blur(im,(3,3))\n",
        "  #im=cv2.blur(im,(5,5))\n",
        "  #im=cv2.bilateralFilter(im,5,13,13)\n",
        "  \n",
        "  #sharpening\n",
        "  \n",
        "  #blur=ndimage.gaussian_filter(im,sigma=3)\n",
        "  #filter=ndimage.gaussian_filter(blur,1)\n",
        "  #alpha=30\n",
        "  #im=blur+alpha*(blur-filter)\n",
        "  \n",
        "  \n",
        "  x.append(im)\n",
        "  y_ans.append(df[df['id']==name.split('/')[1]]['has_cactus'].values[0])\n",
        "  \n",
        "  #flip left/right\n",
        "  x.append(np.fliplr(im))\n",
        "  y_ans.append(df[df['id']==name.split('/')[1]]['has_cactus'].values[0])\n",
        "  \n",
        "  #flip up/down\n",
        "  x.append(np.flipud(im))\n",
        "  y_ans.append(df[df['id']==name.split('/')[1]]['has_cactus'].values[0])\n",
        "  \n",
        "  #rotate 90 degree\n",
        "  x.append(np.rot90(im))\n",
        "  y_ans.append(df[df['id']==name.split('/')[1]]['has_cactus'].values[0])\n",
        "  \n",
        "  "
      ],
      "execution_count": 0,
      "outputs": []
    },
    {
      "cell_type": "markdown",
      "metadata": {
        "id": "fZdDwerrlpJE",
        "colab_type": "text"
      },
      "source": [
        "Normalize images between [0,1]"
      ]
    },
    {
      "cell_type": "code",
      "metadata": {
        "id": "pz5rmBjXDTMe",
        "colab_type": "code",
        "outputId": "ac6270dc-3966-4c36-ba2f-5d2ea6168bb3",
        "colab": {
          "base_uri": "https://localhost:8080/",
          "height": 35
        }
      },
      "source": [
        "x=np.asarray(x)\n",
        "x=x/255\n",
        "x.shape"
      ],
      "execution_count": 12,
      "outputs": [
        {
          "output_type": "execute_result",
          "data": {
            "text/plain": [
              "(70000, 32, 32, 3)"
            ]
          },
          "metadata": {
            "tags": []
          },
          "execution_count": 12
        }
      ]
    },
    {
      "cell_type": "code",
      "metadata": {
        "id": "VnrPFgrJDn2w",
        "colab_type": "code",
        "outputId": "3c412200-2f80-49a4-932d-f6e17782da56",
        "colab": {
          "base_uri": "https://localhost:8080/",
          "height": 35
        }
      },
      "source": [
        "y_ans=np.asarray(y_ans)\n",
        "y_ans.shape"
      ],
      "execution_count": 13,
      "outputs": [
        {
          "output_type": "execute_result",
          "data": {
            "text/plain": [
              "(70000,)"
            ]
          },
          "metadata": {
            "tags": []
          },
          "execution_count": 13
        }
      ]
    },
    {
      "cell_type": "code",
      "metadata": {
        "id": "UxGN7RFAB0kD",
        "colab_type": "code",
        "colab": {}
      },
      "source": [
        "#preparing test file images\n",
        "test=[]\n",
        "\n",
        "#open images with glob\n",
        "test_im=glob.glob('test/*.jpg')\n",
        "\n",
        "\n",
        "for name in test_im:\n",
        "\n",
        "  im=cv2.imread(name)\n",
        "  \n",
        "  test.append(im)\n",
        "  "
      ],
      "execution_count": 0,
      "outputs": []
    },
    {
      "cell_type": "markdown",
      "metadata": {
        "id": "0bTggqLBG_TV",
        "colab_type": "text"
      },
      "source": [
        "A little preprocessing never hurt anyone."
      ]
    },
    {
      "cell_type": "code",
      "metadata": {
        "id": "aktPTrWDG3TJ",
        "colab_type": "code",
        "outputId": "d2507fdb-1b8f-4ade-8efa-83603cd41e96",
        "colab": {
          "base_uri": "https://localhost:8080/",
          "height": 35
        }
      },
      "source": [
        "test=np.asarray(test)\n",
        "test=test/255\n",
        "test.shape"
      ],
      "execution_count": 15,
      "outputs": [
        {
          "output_type": "execute_result",
          "data": {
            "text/plain": [
              "(4000, 32, 32, 3)"
            ]
          },
          "metadata": {
            "tags": []
          },
          "execution_count": 15
        }
      ]
    },
    {
      "cell_type": "markdown",
      "metadata": {
        "id": "lCXoB8lsestU",
        "colab_type": "text"
      },
      "source": [
        "# Neural net"
      ]
    },
    {
      "cell_type": "code",
      "metadata": {
        "id": "1nHV4KHyarvQ",
        "colab_type": "code",
        "outputId": "6e82c1b3-93b9-41d1-d530-3f83efdcd9ba",
        "colab": {
          "base_uri": "https://localhost:8080/",
          "height": 35
        }
      },
      "source": [
        "from keras.models import Sequential\n",
        "from keras.layers import Conv2D,MaxPooling2D,Flatten,Dense,Dropout,Activation, BatchNormalization\n",
        "from keras.callbacks import ModelCheckpoint,EarlyStopping\n",
        "from keras.utils import to_categorical"
      ],
      "execution_count": 16,
      "outputs": [
        {
          "output_type": "stream",
          "text": [
            "Using TensorFlow backend.\n"
          ],
          "name": "stderr"
        }
      ]
    },
    {
      "cell_type": "markdown",
      "metadata": {
        "id": "i13FzvER_XlE",
        "colab_type": "text"
      },
      "source": [
        "##cnn"
      ]
    },
    {
      "cell_type": "code",
      "metadata": {
        "id": "WxkESpkBcnjb",
        "colab_type": "code",
        "colab": {}
      },
      "source": [
        "from sklearn.model_selection import train_test_split\n",
        "X_train,X_test,y_train,y_test=train_test_split(x,y_ans,test_size=0.3,random_state=27)"
      ],
      "execution_count": 0,
      "outputs": []
    },
    {
      "cell_type": "code",
      "metadata": {
        "id": "nlklN-rVxGOk",
        "colab_type": "code",
        "colab": {}
      },
      "source": [
        "# #augmenting data\n",
        "# from keras.preprocessing.image import ImageDataGenerator\n",
        "# datagen=ImageDataGenerator(rotation_range=90,\n",
        "#                           horizontal_flip=True,\n",
        "#                           vertical_flip=True,\n",
        "#                           validation_split=0.3)\n",
        "# datagen.fit(X_train)"
      ],
      "execution_count": 0,
      "outputs": []
    },
    {
      "cell_type": "code",
      "metadata": {
        "id": "d-Ap8tcNcF3o",
        "colab_type": "code",
        "colab": {}
      },
      "source": [
        "nn=Sequential()\n",
        "\n",
        "nn.add(Conv2D(filters=16, kernel_size=2, padding='same', activation='relu',input_shape=(32, 32, 3)))\n",
        "nn.add(MaxPooling2D(pool_size=2))\n",
        "nn.add(Conv2D(filters=32, kernel_size=4, padding='same', activation='relu'))\n",
        "nn.add(MaxPooling2D(pool_size=2))\n",
        "nn.add(Conv2D(filters=64, kernel_size=6, padding='same', activation='relu'))\n",
        "nn.add(MaxPooling2D(pool_size=2))\n",
        "\n",
        "nn.add(Dropout(0.3))\n",
        "nn.add(Flatten())\n",
        "nn.add(Dense(500, activation='relu'))\n",
        "nn.add(Dropout(0.3))\n",
        "nn.add(Dense(1, activation='sigmoid'))"
      ],
      "execution_count": 0,
      "outputs": []
    },
    {
      "cell_type": "code",
      "metadata": {
        "id": "EucWh5VUfYxo",
        "colab_type": "code",
        "colab": {}
      },
      "source": [
        "checkpoint=ModelCheckpoint(filepath='ann.best.hdf5',verbose=1,save_best_only=True)\n",
        "es=EarlyStopping(monitor='val_loss',verbose=1,mode='min')"
      ],
      "execution_count": 0,
      "outputs": []
    },
    {
      "cell_type": "code",
      "metadata": {
        "id": "_13d3naUfK7_",
        "colab_type": "code",
        "colab": {}
      },
      "source": [
        "nn.compile(loss='binary_crossentropy',optimizer='adam',metrics=['accuracy'])"
      ],
      "execution_count": 0,
      "outputs": []
    },
    {
      "cell_type": "code",
      "metadata": {
        "id": "MgxfImk8fpeh",
        "colab_type": "code",
        "outputId": "a01133cf-2bdf-4077-f89b-b184452d5d39",
        "colab": {
          "base_uri": "https://localhost:8080/",
          "height": 292
        }
      },
      "source": [
        "history=nn.fit(X_train,y_train,verbose=1,validation_split=0.3,batch_size=100,callbacks=[es,checkpoint],epochs=10)\n",
        "#history=nn.fit_generator(datagen.flow(X_train,y_train,batch_size=100),epochs=10,callbacks=[checkpoint,es],validation_data=(X_test,y_test),\n",
        "#                        verbose=1,steps_per_epoch=len(X_train)/100)"
      ],
      "execution_count": 0,
      "outputs": [
        {
          "output_type": "stream",
          "text": [
            "Train on 34300 samples, validate on 14700 samples\n",
            "Epoch 1/10\n",
            "34300/34300 [==============================] - 4s 110us/step - loss: 0.1676 - acc: 0.9332 - val_loss: 0.1028 - val_acc: 0.9620\n",
            "\n",
            "Epoch 00001: val_loss improved from inf to 0.10278, saving model to ann.best.hdf5\n",
            "Epoch 2/10\n",
            "34300/34300 [==============================] - 3s 89us/step - loss: 0.0902 - acc: 0.9663 - val_loss: 0.0792 - val_acc: 0.9722\n",
            "\n",
            "Epoch 00002: val_loss improved from 0.10278 to 0.07924, saving model to ann.best.hdf5\n",
            "Epoch 3/10\n",
            "34300/34300 [==============================] - 3s 91us/step - loss: 0.0763 - acc: 0.9722 - val_loss: 0.1324 - val_acc: 0.9496\n",
            "\n",
            "Epoch 00003: val_loss did not improve from 0.07924\n",
            "Epoch 00003: early stopping\n"
          ],
          "name": "stdout"
        }
      ]
    },
    {
      "cell_type": "code",
      "metadata": {
        "id": "J21e8K-eMNQp",
        "colab_type": "code",
        "outputId": "b3f646d7-8fa1-433d-8987-8a9782ae7b09",
        "colab": {
          "base_uri": "https://localhost:8080/",
          "height": 53
        }
      },
      "source": [
        "nn.evaluate(X_test,y_test)"
      ],
      "execution_count": 0,
      "outputs": [
        {
          "output_type": "stream",
          "text": [
            "21000/21000 [==============================] - 2s 82us/step\n"
          ],
          "name": "stdout"
        },
        {
          "output_type": "execute_result",
          "data": {
            "text/plain": [
              "[0.12622078043399823, 0.9509047619047619]"
            ]
          },
          "metadata": {
            "tags": []
          },
          "execution_count": 68
        }
      ]
    },
    {
      "cell_type": "markdown",
      "metadata": {
        "id": "jWoQquBJ93NQ",
        "colab_type": "text"
      },
      "source": [
        "## vgg16"
      ]
    },
    {
      "cell_type": "code",
      "metadata": {
        "id": "8GLwSHqVgSrp",
        "colab_type": "code",
        "colab": {}
      },
      "source": [
        "from keras.applications import VGG16"
      ],
      "execution_count": 0,
      "outputs": []
    },
    {
      "cell_type": "code",
      "metadata": {
        "id": "yvqLl0AUnKed",
        "colab_type": "code",
        "outputId": "e79e3189-686d-49c1-deb7-99a648e6abd2",
        "colab": {
          "base_uri": "https://localhost:8080/",
          "height": 92
        }
      },
      "source": [
        "from keras import optimizers\n",
        "Adam=optimizers.adam(lr=0.0001)"
      ],
      "execution_count": 18,
      "outputs": [
        {
          "output_type": "stream",
          "text": [
            "WARNING:tensorflow:From /usr/local/lib/python3.6/dist-packages/tensorflow/python/framework/op_def_library.py:263: colocate_with (from tensorflow.python.framework.ops) is deprecated and will be removed in a future version.\n",
            "Instructions for updating:\n",
            "Colocations handled automatically by placer.\n"
          ],
          "name": "stdout"
        }
      ]
    },
    {
      "cell_type": "code",
      "metadata": {
        "id": "4uO6r61qracJ",
        "colab_type": "code",
        "outputId": "161d0cc3-76ce-4351-96d2-257e08f2c861",
        "colab": {
          "base_uri": "https://localhost:8080/",
          "height": 128
        }
      },
      "source": [
        "vgg=VGG16(include_top=False,input_shape=(32,32,3))\n",
        "\n",
        "#make vgg layers untrainable\n",
        "for layer in vgg.layers:\n",
        "  layer.trainable=False\n",
        "  \n",
        "#add vgg layers to our sequential model  \n",
        "model=Sequential()\n",
        "for layer in vgg.layers:\n",
        "  model.add(layer)  \n",
        "\n",
        "#add a few more layers \n",
        "model.add(Flatten())\n",
        "model.add(Dense(250))\n",
        "model.add(Activation('relu'))\n",
        "model.add(BatchNormalization())\n",
        "model.add(Dropout(0.4))\n",
        "model.add(Dense(50))\n",
        "model.add(Activation('relu'))\n",
        "model.add(BatchNormalization())\n",
        "\n",
        "#add the last layer\n",
        "model.add(Dense(1,activation='sigmoid'))\n",
        "\n",
        "#compile the model\n",
        "model.compile(loss='binary_crossentropy',optimizer=Adam,metrics=['accuracy'])\n"
      ],
      "execution_count": 19,
      "outputs": [
        {
          "output_type": "stream",
          "text": [
            "Downloading data from https://github.com/fchollet/deep-learning-models/releases/download/v0.1/vgg16_weights_tf_dim_ordering_tf_kernels_notop.h5\n",
            "58892288/58889256 [==============================] - 1s 0us/step\n",
            "WARNING:tensorflow:From /usr/local/lib/python3.6/dist-packages/keras/backend/tensorflow_backend.py:3445: calling dropout (from tensorflow.python.ops.nn_ops) with keep_prob is deprecated and will be removed in a future version.\n",
            "Instructions for updating:\n",
            "Please use `rate` instead of `keep_prob`. Rate should be set to `rate = 1 - keep_prob`.\n"
          ],
          "name": "stdout"
        }
      ]
    },
    {
      "cell_type": "code",
      "metadata": {
        "id": "KCH60qb-DzHA",
        "colab_type": "code",
        "colab": {}
      },
      "source": [
        "from sklearn.model_selection import train_test_split\n",
        "X_train,X_test,y_train,y_test=train_test_split(x,y_ans,test_size=0.2,random_state=6)"
      ],
      "execution_count": 0,
      "outputs": []
    },
    {
      "cell_type": "code",
      "metadata": {
        "id": "w35uakfIriC6",
        "colab_type": "code",
        "colab": {}
      },
      "source": [
        "checkpoint=ModelCheckpoint(filepath='vgg.best.hdf5',verbose=1,save_best_only=True)\n",
        "es=EarlyStopping(monitor='val_acc',verbose=1,mode='max')"
      ],
      "execution_count": 0,
      "outputs": []
    },
    {
      "cell_type": "code",
      "metadata": {
        "id": "nrz_DdFrTtYY",
        "colab_type": "code",
        "outputId": "346bbdce-9b9a-4e66-99dc-6ee90755b4d1",
        "colab": {
          "base_uri": "https://localhost:8080/",
          "height": 1127
        }
      },
      "source": [
        "model.summary()"
      ],
      "execution_count": 0,
      "outputs": [
        {
          "output_type": "stream",
          "text": [
            "_________________________________________________________________\n",
            "Layer (type)                 Output Shape              Param #   \n",
            "=================================================================\n",
            "block1_conv1 (Conv2D)        (None, 32, 32, 64)        1792      \n",
            "_________________________________________________________________\n",
            "block1_conv2 (Conv2D)        (None, 32, 32, 64)        36928     \n",
            "_________________________________________________________________\n",
            "block1_pool (MaxPooling2D)   (None, 16, 16, 64)        0         \n",
            "_________________________________________________________________\n",
            "block2_conv1 (Conv2D)        (None, 16, 16, 128)       73856     \n",
            "_________________________________________________________________\n",
            "block2_conv2 (Conv2D)        (None, 16, 16, 128)       147584    \n",
            "_________________________________________________________________\n",
            "block2_pool (MaxPooling2D)   (None, 8, 8, 128)         0         \n",
            "_________________________________________________________________\n",
            "block3_conv1 (Conv2D)        (None, 8, 8, 256)         295168    \n",
            "_________________________________________________________________\n",
            "block3_conv2 (Conv2D)        (None, 8, 8, 256)         590080    \n",
            "_________________________________________________________________\n",
            "block3_conv3 (Conv2D)        (None, 8, 8, 256)         590080    \n",
            "_________________________________________________________________\n",
            "block3_pool (MaxPooling2D)   (None, 4, 4, 256)         0         \n",
            "_________________________________________________________________\n",
            "block4_conv1 (Conv2D)        (None, 4, 4, 512)         1180160   \n",
            "_________________________________________________________________\n",
            "block4_conv2 (Conv2D)        (None, 4, 4, 512)         2359808   \n",
            "_________________________________________________________________\n",
            "block4_conv3 (Conv2D)        (None, 4, 4, 512)         2359808   \n",
            "_________________________________________________________________\n",
            "block4_pool (MaxPooling2D)   (None, 2, 2, 512)         0         \n",
            "_________________________________________________________________\n",
            "block5_conv1 (Conv2D)        (None, 2, 2, 512)         2359808   \n",
            "_________________________________________________________________\n",
            "block5_conv2 (Conv2D)        (None, 2, 2, 512)         2359808   \n",
            "_________________________________________________________________\n",
            "block5_conv3 (Conv2D)        (None, 2, 2, 512)         2359808   \n",
            "_________________________________________________________________\n",
            "block5_pool (MaxPooling2D)   (None, 1, 1, 512)         0         \n",
            "_________________________________________________________________\n",
            "flatten_1 (Flatten)          (None, 512)               0         \n",
            "_________________________________________________________________\n",
            "dense_1 (Dense)              (None, 250)               128250    \n",
            "_________________________________________________________________\n",
            "activation_1 (Activation)    (None, 250)               0         \n",
            "_________________________________________________________________\n",
            "batch_normalization_1 (Batch (None, 250)               1000      \n",
            "_________________________________________________________________\n",
            "dropout_1 (Dropout)          (None, 250)               0         \n",
            "_________________________________________________________________\n",
            "dense_2 (Dense)              (None, 50)                12550     \n",
            "_________________________________________________________________\n",
            "activation_2 (Activation)    (None, 50)                0         \n",
            "_________________________________________________________________\n",
            "batch_normalization_2 (Batch (None, 50)                200       \n",
            "_________________________________________________________________\n",
            "dense_3 (Dense)              (None, 1)                 51        \n",
            "=================================================================\n",
            "Total params: 14,856,739\n",
            "Trainable params: 141,451\n",
            "Non-trainable params: 14,715,288\n",
            "_________________________________________________________________\n"
          ],
          "name": "stdout"
        }
      ]
    },
    {
      "cell_type": "code",
      "metadata": {
        "id": "pr5M9pU3rqXw",
        "colab_type": "code",
        "outputId": "175d245c-2302-4da9-a5f0-2c0161b80d5e",
        "colab": {
          "base_uri": "https://localhost:8080/",
          "height": 638
        }
      },
      "source": [
        "history=model.fit(X_train,y_train,verbose=1,validation_split=0.1,callbacks=[checkpoint,es],batch_size=50,epochs=20)"
      ],
      "execution_count": 23,
      "outputs": [
        {
          "output_type": "stream",
          "text": [
            "WARNING:tensorflow:From /usr/local/lib/python3.6/dist-packages/tensorflow/python/ops/math_ops.py:3066: to_int32 (from tensorflow.python.ops.math_ops) is deprecated and will be removed in a future version.\n",
            "Instructions for updating:\n",
            "Use tf.cast instead.\n",
            "Train on 50400 samples, validate on 5600 samples\n",
            "Epoch 1/20\n",
            "50400/50400 [==============================] - 20s 390us/step - loss: 0.2644 - acc: 0.9026 - val_loss: 0.1232 - val_acc: 0.9589\n",
            "\n",
            "Epoch 00001: val_loss improved from inf to 0.12325, saving model to vgg.best.hdf5\n",
            "Epoch 2/20\n",
            "50400/50400 [==============================] - 15s 301us/step - loss: 0.1310 - acc: 0.9588 - val_loss: 0.1007 - val_acc: 0.9666\n",
            "\n",
            "Epoch 00002: val_loss improved from 0.12325 to 0.10068, saving model to vgg.best.hdf5\n",
            "Epoch 3/20\n",
            "50400/50400 [==============================] - 15s 301us/step - loss: 0.1049 - acc: 0.9641 - val_loss: 0.0822 - val_acc: 0.9684\n",
            "\n",
            "Epoch 00003: val_loss improved from 0.10068 to 0.08220, saving model to vgg.best.hdf5\n",
            "Epoch 4/20\n",
            "50400/50400 [==============================] - 15s 304us/step - loss: 0.0937 - acc: 0.9669 - val_loss: 0.0744 - val_acc: 0.9721\n",
            "\n",
            "Epoch 00004: val_loss improved from 0.08220 to 0.07441, saving model to vgg.best.hdf5\n",
            "Epoch 5/20\n",
            "50400/50400 [==============================] - 16s 312us/step - loss: 0.0855 - acc: 0.9698 - val_loss: 0.0699 - val_acc: 0.9752\n",
            "\n",
            "Epoch 00005: val_loss improved from 0.07441 to 0.06986, saving model to vgg.best.hdf5\n",
            "Epoch 6/20\n",
            "50400/50400 [==============================] - 16s 313us/step - loss: 0.0815 - acc: 0.9705 - val_loss: 0.0668 - val_acc: 0.9775\n",
            "\n",
            "Epoch 00006: val_loss improved from 0.06986 to 0.06678, saving model to vgg.best.hdf5\n",
            "Epoch 7/20\n",
            "50400/50400 [==============================] - 15s 306us/step - loss: 0.0751 - acc: 0.9726 - val_loss: 0.0695 - val_acc: 0.9734\n",
            "\n",
            "Epoch 00007: val_loss did not improve from 0.06678\n",
            "Epoch 00007: early stopping\n"
          ],
          "name": "stdout"
        }
      ]
    },
    {
      "cell_type": "code",
      "metadata": {
        "id": "5XoTs8yEruVE",
        "colab_type": "code",
        "outputId": "6a4076f5-bec9-498e-ebd6-8150ccde9676",
        "colab": {
          "base_uri": "https://localhost:8080/",
          "height": 53
        }
      },
      "source": [
        "model.evaluate(X_test,y_test)"
      ],
      "execution_count": 24,
      "outputs": [
        {
          "output_type": "stream",
          "text": [
            "14000/14000 [==============================] - 4s 308us/step\n"
          ],
          "name": "stdout"
        },
        {
          "output_type": "execute_result",
          "data": {
            "text/plain": [
              "[0.06663644795492292, 0.9737142857142858]"
            ]
          },
          "metadata": {
            "tags": []
          },
          "execution_count": 24
        }
      ]
    },
    {
      "cell_type": "code",
      "metadata": {
        "id": "--jliGfXz4QY",
        "colab_type": "code",
        "colab": {}
      },
      "source": [
        "model.save('drive/My Drive/pucho/vgg.best.hdf5')"
      ],
      "execution_count": 0,
      "outputs": []
    },
    {
      "cell_type": "code",
      "metadata": {
        "id": "ptZu4svPclR2",
        "colab_type": "code",
        "outputId": "5eb5556a-0f76-4309-9363-95640c8907cd",
        "colab": {
          "base_uri": "https://localhost:8080/",
          "height": 53
        }
      },
      "source": [
        "model.load_weights('drive/My Drive/pucho/vgg.best.hdf5')\n",
        "#evaluate on test data\n",
        "model.evaluate(X_test,y_test,verbose=1)"
      ],
      "execution_count": 28,
      "outputs": [
        {
          "output_type": "stream",
          "text": [
            "14000/14000 [==============================] - 4s 282us/step\n"
          ],
          "name": "stdout"
        },
        {
          "output_type": "execute_result",
          "data": {
            "text/plain": [
              "[0.06663644795492292, 0.9737142857142858]"
            ]
          },
          "metadata": {
            "tags": []
          },
          "execution_count": 28
        }
      ]
    },
    {
      "cell_type": "code",
      "metadata": {
        "id": "XwsmVa3s3lNo",
        "colab_type": "code",
        "colab": {
          "base_uri": "https://localhost:8080/",
          "height": 369
        },
        "outputId": "15c4f7d8-880e-429b-a1b3-524e4fcc4326"
      },
      "source": [
        "fig,axes=plt.subplots(1,2,figsize=(12,5))\n",
        "\n",
        "#plot accuracy\n",
        "axes[0].plot(history.history['acc'],label='train')\n",
        "axes[0].plot(history.history['val_acc'],label='validation')\n",
        "axes[0].set_ylabel('accuracy')\n",
        "axes[0].set_xlabel('epochs')\n",
        "axes[0].legend(loc=4);\n",
        "#plot loss\n",
        "axes[1].plot(history.history['loss'],label='train')\n",
        "axes[1].plot(history.history['val_loss'],label='validation')\n",
        "axes[1].set_ylabel('loss')\n",
        "axes[1].set_xlabel('epochs')\n",
        "axes[1].legend(loc=1);\n",
        "\n",
        "fig.tight_layout();"
      ],
      "execution_count": 47,
      "outputs": [
        {
          "output_type": "display_data",
          "data": {
            "image/png": "[encoded data removed]",
            "text/plain": [
              "<Figure size 864x360 with 2 Axes>"
            ]
          },
          "metadata": {
            "tags": []
          }
        }
      ]
    },
    {
      "cell_type": "markdown",
      "metadata": {
        "id": "xLyGaLm85rLT",
        "colab_type": "text"
      },
      "source": [
        "Classification report for seperated test dataset."
      ]
    },
    {
      "cell_type": "code",
      "metadata": {
        "id": "k7aK0r-SrMkm",
        "colab_type": "code",
        "outputId": "8e49916b-302b-4dc7-9e97-6bc0ffbdbe27",
        "colab": {
          "base_uri": "https://localhost:8080/",
          "height": 181
        }
      },
      "source": [
        "from sklearn.metrics import classification_report\n",
        "\n",
        "predict=model.predict_classes(X_test)\n",
        "print(classification_report(y_test,predict,target_names=['no cactus','cactus']))"
      ],
      "execution_count": 48,
      "outputs": [
        {
          "output_type": "stream",
          "text": [
            "              precision    recall  f1-score   support\n",
            "\n",
            "   no cactus       0.98      0.92      0.95      3479\n",
            "      cactus       0.97      0.99      0.98     10521\n",
            "\n",
            "    accuracy                           0.97     14000\n",
            "   macro avg       0.97      0.95      0.96     14000\n",
            "weighted avg       0.97      0.97      0.97     14000\n",
            "\n"
          ],
          "name": "stdout"
        }
      ]
    },
    {
      "cell_type": "markdown",
      "metadata": {
        "id": "MAkFKKT3SJCa",
        "colab_type": "text"
      },
      "source": [
        "Predicting cactus image with 98% accuracy.\n",
        "\n",
        "Good f1-score."
      ]
    },
    {
      "cell_type": "code",
      "metadata": {
        "id": "fPWcN2vqN0Vl",
        "colab_type": "code",
        "outputId": "17361d8e-155e-4dcf-a229-124407c07874",
        "colab": {
          "base_uri": "https://localhost:8080/",
          "height": 295
        }
      },
      "source": [
        "from sklearn.metrics import precision_recall_curve,roc_curve\n",
        "\n",
        "fpr,tpr,_=roc_curve(y_test,predict)\n",
        "\n",
        "plt.plot(fpr,tpr)\n",
        "plt.xlabel('FPR')\n",
        "plt.ylabel('TPR')\n",
        "plt.title('ROC');"
      ],
      "execution_count": 49,
      "outputs": [
        {
          "output_type": "display_data",
          "data": {
            "image/png": "[encoded data removed]",
            "text/plain": [
              "<Figure size 432x288 with 1 Axes>"
            ]
          },
          "metadata": {
            "tags": []
          }
        }
      ]
    },
    {
      "cell_type": "markdown",
      "metadata": {
        "id": "tkiqAToKXJEq",
        "colab_type": "text"
      },
      "source": [
        "Good AUC."
      ]
    },
    {
      "cell_type": "code",
      "metadata": {
        "id": "enT30L-4mPAm",
        "colab_type": "code",
        "colab": {}
      },
      "source": [
        "model.load_weights('drive/My Drive/pucho/vgg.best.hdf5')\n",
        "predict=model.predict(test)"
      ],
      "execution_count": 0,
      "outputs": []
    },
    {
      "cell_type": "code",
      "metadata": {
        "id": "tsGNKkdPHMmh",
        "colab_type": "code",
        "colab": {}
      },
      "source": [
        "submit=pd.DataFrame(columns=['id','has_cactus'])"
      ],
      "execution_count": 0,
      "outputs": []
    },
    {
      "cell_type": "code",
      "metadata": {
        "id": "Ixy9a4c0JYfX",
        "colab_type": "code",
        "colab": {}
      },
      "source": [
        "#open images with glob\n",
        "test_im=glob.glob('test/*.jpg')\n",
        "\n",
        "index=0\n",
        "for name in test_im:\n",
        "\n",
        "  name=name.split('/')[1]\n",
        "  \n",
        "  submit.loc[index,'id']=name\n",
        "  submit.loc[index,'has_cactus']=predict[index]\n",
        "  index+=1\n",
        "  "
      ],
      "execution_count": 0,
      "outputs": []
    },
    {
      "cell_type": "code",
      "metadata": {
        "id": "zLzVD6EKJugA",
        "colab_type": "code",
        "colab": {}
      },
      "source": [
        "submit.to_csv('drive/My Drive/pucho/submit.csv',index=False)"
      ],
      "execution_count": 0,
      "outputs": []
    },
    {
      "cell_type": "code",
      "metadata": {
        "id": "oERaFcWGKeI0",
        "colab_type": "code",
        "colab": {}
      },
      "source": [
        ""
      ],
      "execution_count": 0,
      "outputs": []
    }
  ]
}